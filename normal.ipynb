{
 "cells": [
  {
   "cell_type": "code",
   "execution_count": 2,
   "metadata": {},
   "outputs": [
    {
     "data": {
      "text/plain": [
       "(0.4792446825796688,\n",
       " 1.5133309920828285e-05,\n",
       " 0.00021056084372142084,\n",
       " 5.344075431243411e-05)"
      ]
     },
     "execution_count": 2,
     "metadata": {},
     "output_type": "execute_result"
    }
   ],
   "source": [
    "import numpy as np\n",
    "import pandas as pd\n",
    "import scipy as sc\n",
    "\n",
    "normal_distrib = np.random.normal(0, 10, 10000)\n",
    "normal_distrib = pd.DataFrame(normal_distrib)\n",
    "normal_distrib.describe(percentiles=[0.25, 0.5, 0.75, 0.021, 0.136, 0.5 + 0.341, 0.5 + 0.341 + 0.136])\n",
    "\n",
    "n = 4\n",
    "sum =10\n",
    "a = 1/3*1**n*np.exp(-1*sum)\n",
    "b = 1/2*0.5**n*np.exp(-0.5*sum)\n",
    "c = 1/6*0.25**n*np.exp(-0.25*sum)\n",
    "\n",
    "(a+0.5*b+0.25*c)/(a+b+c), a, b, c"
   ]
  },
  {
   "cell_type": "code",
   "execution_count": 6,
   "metadata": {},
   "outputs": [
    {
     "data": {
      "text/plain": [
       "(array([5.31441000e-07, 1.54117890e-05, 2.06376255e-04, 1.69165543e-03,\n",
       "        9.48937113e-03, 3.86008431e-02, 1.17848739e-01, 2.76344530e-01,\n",
       "        5.07484227e-01, 7.47184652e-01, 9.14974950e-01, 9.86158713e-01,\n",
       "        1.00000000e+00]),\n",
       " [0.01384128720099999,\n",
       "  0.07118376274799995,\n",
       "  0.1677902979059999,\n",
       "  0.23970042557999985,\n",
       "  0.2311396960949999,\n",
       "  0.1584957916079999,\n",
       "  0.07924789580399996,\n",
       "  0.029111471927999982,\n",
       "  0.007797715694999996,\n",
       "  0.0014852791799999992,\n",
       "  0.00019096446599999988,\n",
       "  1.4880347999999992e-05,\n",
       "  5.314409999999998e-07],\n",
       " array([ True,  True,  True,  True,  True,  True, False, False, False,\n",
       "        False, False, False, False]),\n",
       " 0.27634453046999985)"
      ]
     },
     "execution_count": 6,
     "metadata": {},
     "output_type": "execute_result"
    }
   ],
   "source": [
    "P=0.3\n",
    "n=12\n",
    "k=5\n",
    "\n",
    "probs = [sc.special.comb(n, k)*P**k*(1-P)**(n-k) for k in range(0, n+1)]\n",
    "prefix_sum = np.cumsum(probs[::-1])\n",
    "prefix_sum, probs, prefix_sum < 0.05, prefix_sum[::-1][5]"
   ]
  },
  {
   "cell_type": "code",
   "execution_count": 5,
   "metadata": {},
   "outputs": [
    {
     "data": {
      "text/plain": [
       "(array([5.31441000e-07, 1.54117890e-05, 2.06376255e-04, 1.69165544e-03,\n",
       "        9.48937113e-03, 3.86008431e-02, 1.17848739e-01, 2.76344530e-01,\n",
       "        5.07484227e-01, 7.47184652e-01, 9.14974950e-01, 9.86158713e-01,\n",
       "        1.00000000e+00]),\n",
       " [5.314410000000009e-07,\n",
       "  1.4880348000000022e-05,\n",
       "  0.00019096446600000026,\n",
       "  0.0014852791800000014,\n",
       "  0.007797715695000007,\n",
       "  0.02911147192800002,\n",
       "  0.07924789580400005,\n",
       "  0.15849579160800004,\n",
       "  0.231139696095,\n",
       "  0.23970042558,\n",
       "  0.16779029790599995,\n",
       "  0.07118376274799997,\n",
       "  0.01384128720099999],\n",
       " array([5.31441000e-07, 1.54117890e-05, 2.06376255e-04, 1.69165544e-03,\n",
       "        9.48937113e-03, 3.86008431e-02, 1.17848739e-01]))"
      ]
     },
     "execution_count": 5,
     "metadata": {},
     "output_type": "execute_result"
    }
   ],
   "source": [
    "P=0.7\n",
    "n=12\n",
    "k=5\n",
    "\n",
    "probs = [sc.special.comb(n, k)*P**k*(1-P)**(n-k) for k in range(0, n+1)]\n",
    "prefix_sum = np.cumsum(probs)\n",
    "prefix_sum, probs, prefix_sum[0:7]"
   ]
  }
 ],
 "metadata": {
  "kernelspec": {
   "display_name": "Python 3",
   "language": "python",
   "name": "python3"
  },
  "language_info": {
   "codemirror_mode": {
    "name": "ipython",
    "version": 3
   },
   "file_extension": ".py",
   "mimetype": "text/x-python",
   "name": "python",
   "nbconvert_exporter": "python",
   "pygments_lexer": "ipython3",
   "version": "3.10.12"
  },
  "orig_nbformat": 4
 },
 "nbformat": 4,
 "nbformat_minor": 2
}
